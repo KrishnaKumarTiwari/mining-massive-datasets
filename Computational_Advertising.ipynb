{
 "cells": [
  {
   "cell_type": "markdown",
   "metadata": {},
   "source": [
    "# Computational Advertising"
   ]
  },
  {
   "cell_type": "code",
   "execution_count": 1,
   "metadata": {
    "collapsed": true
   },
   "outputs": [],
   "source": [
    "import numpy as np"
   ]
  },
  {
   "cell_type": "markdown",
   "metadata": {},
   "source": [
    "## Advanced Q1"
   ]
  },
  {
   "cell_type": "code",
   "execution_count": 2,
   "metadata": {},
   "outputs": [
    {
     "data": {
      "text/plain": [
       "array([[1. , 0. , 0. ],\n",
       "       [0. , 0.5, 0. ],\n",
       "       [0. , 0. , 0. ]])"
      ]
     },
     "execution_count": 2,
     "metadata": {},
     "output_type": "execute_result"
    }
   ],
   "source": [
    "np.linalg.pinv([[1,0,0],[0,2,0],[0,0,0]])"
   ]
  },
  {
   "cell_type": "markdown",
   "metadata": {},
   "source": [
    "## Advanced Q2\n",
    "The publisher uses the following strategy to allocate the three ad slots:\n",
    "\n",
    "Any advertiser whose budget is spent is ignored in what follows.\n",
    "\n",
    "* The first slot goes to the advertiser whose expected yield for the first slot (product of the bid and the CTR for the first slot) is the greatest. This advertiser is ignored in what follows.\n",
    "* The second slot goes to the advertiser whose expected yield for the second slot (product of the bid and the CTR for the second slot) is the greatest. This advertiser is ignored in what follows.\n",
    "* The third slot goes to the advertiser whose expected yield for the third slot (product of the bid and the CTR for the third slot) is the greatest.\n",
    "\n",
    "The same three advertisers get the three ad positions until one of two things happens:\n",
    "\n",
    "* An advertiser runs out of budget, or \n",
    "* All 101 click-throughs have been obtained.\n",
    "\n",
    "Either of these events ends one phase of the allocation. If a phase ends because an advertiser ran out of budget, then they are assumed to get all the clicks their budget buys. During the same phase, we calculate the number of click-throughs received by the other two advertisers by assuming that all three received click-throughs in proportion to their respective CTR's for their positions (round to the nearest integer). If click-throughs remain, the publisher reallocates all three slots and starts a new phase.\n",
    "\n",
    "If the phase ends because all click-throughs have been allocated, assume that the three advertisers received click-throughs in proportion to their respective CTR's (again, rounding if necessary)."
   ]
  },
  {
   "cell_type": "code",
   "execution_count": 3,
   "metadata": {
    "collapsed": true
   },
   "outputs": [],
   "source": [
    "bids = dict(zip(\"ABCDE\", (0.1,0.09, 0.08, 0.07, 0.06)))\n",
    "\n",
    "ctr2 = dict(zip(\"ABCDE\", (0.1,0.12, 0.14, 0.15, 0.16)))\n",
    "\n",
    "ctr1 = dict(zip(\"ABCDE\", (0.15,0.16, 0.17, 0.18, 0.19)))\n",
    "\n",
    "ctr3 = dict(zip(\"ABCDE\", (0.05,0.06, 0.07, 0.08, 0.1)))\n",
    "\n",
    "budget = dict(zip(\"ABCDE\", (1.,2., 3., 4., 5.)))\n",
    "\n",
    "clickThruDict = dict(zip(\"ABCDE\", (0.,0., 0., 0., 0.)))"
   ]
  },
  {
   "cell_type": "code",
   "execution_count": 4,
   "metadata": {},
   "outputs": [
    {
     "name": "stdout",
     "output_type": "stream",
     "text": [
      "A C E\n",
      "A 10\n",
      "2.92\n",
      "E 1\n",
      "4.94\n",
      "B C E\n",
      "B 22\n",
      "2.68\n",
      "E 2\n",
      "4.82\n",
      "C D E\n",
      "C 33\n",
      "3.72\n",
      "E 3\n",
      "4.64\n",
      "{'A': 10.0, 'C': 37.0, 'B': 22.0, 'E': 6.0, 'D': 4.0} 79\n"
     ]
    }
   ],
   "source": [
    "clickThru = 0\n",
    "phase = 0\n",
    "\n",
    "try:\n",
    "    while clickThru < 101 and [key for key, value in budget.items() if value >= bids[key]] and phase < 10:\n",
    "        budgetRemaining = [key for key, value in budget.items() if value >= bids[key]]\n",
    "\n",
    "        position = {}\n",
    "\n",
    "        max1 = max(budgetRemaining, key=lambda x: ctr1[x]*bids[x])\n",
    "        budgetRemaining.remove(max1)\n",
    "        position[max1] = 1\n",
    "\n",
    "        max2 = max(budgetRemaining, key=lambda x: ctr2[x]*bids[x])\n",
    "        budgetRemaining.remove(max2)\n",
    "        position[max2]= 2\n",
    "\n",
    "        max3 = max(budgetRemaining, key=lambda x: ctr3[x]*bids[x])\n",
    "        budgetRemaining.remove(max3)\n",
    "        position[max3] = 3\n",
    "\n",
    "        print max1, max2, max3\n",
    "        count = 0\n",
    "        while all(budget[key] >= count*bids[key] for key in (max1, max2, max3)):\n",
    "            count += 1\n",
    "\n",
    "        if count*bids[max1] - budget[max1] >= 0:\n",
    "            mkey = max1\n",
    "        elif count*bids[max2] - budget[max2] >= 0:\n",
    "            mkey = max2\n",
    "        else:\n",
    "            mkey = max3\n",
    "\n",
    "        count -= 1\n",
    "        \n",
    "        print mkey, count\n",
    "        clickThru += count \n",
    "        clickThruDict[mkey] += count\n",
    "\n",
    "        budget[mkey] = 0\n",
    "\n",
    "        keys = [key for key in (max1,max2,max3) if key != mkey]\n",
    "\n",
    "        for key in keys:\n",
    "            \n",
    "            if position[key] == 1:\n",
    "                clicks = int(ctr1[key]*count)\n",
    "            elif position[key] == 2:\n",
    "                clicks = int(ctr2[key]*count)\n",
    "            else:\n",
    "                clicks = int(ctr3[key]*count)\n",
    "                print key, clicks\n",
    "            clickThru += clicks\n",
    "            clickThruDict[key] += clicks\n",
    "            budget[key] -= clicks*bids[key]\n",
    "            print budget[key]\n",
    "\n",
    "        phase += 1\n",
    "except:\n",
    "    print clickThruDict, clickThru"
   ]
  },
  {
   "cell_type": "code",
   "execution_count": 5,
   "metadata": {
    "collapsed": true
   },
   "outputs": [],
   "source": [
    "x = (0,0)\n",
    "y = (10,10)\n",
    "a = (1,6)\n",
    "b = (3,7)\n",
    "c = (4,3)\n",
    "d = (7,7)\n",
    "e = (8,2)\n",
    "f = (9,5)\n",
    "\n",
    "lookup = dict(zip([(0,0), (10,10), (1,6), (3,7), (4,3), (7,7), (8,2), (9,5)], \"xyabcdef\"))"
   ]
  },
  {
   "cell_type": "code",
   "execution_count": 6,
   "metadata": {},
   "outputs": [
    {
     "name": "stdout",
     "output_type": "stream",
     "text": [
      "e (8, 2)\n",
      "b (3, 7)\n",
      "c (4, 3)\n",
      "d (7, 7)\n",
      "f (9, 5)\n",
      "a (1, 6)\n"
     ]
    }
   ],
   "source": [
    "done = [x, y]\n",
    "notdone = [a,b,c,d,e,f]\n",
    "\n",
    "def dist(q,w):\n",
    "    return (q[0]-w[0])**2 + (q[1]-w[1])**2\n",
    "\n",
    "while notdone:\n",
    "    maxVal = None\n",
    "    maxDist= 0\n",
    "    for point in notdone:\n",
    "        ptminDist = float(\"inf\")\n",
    "        for opoint in done:\n",
    "            if dist(point, opoint) < ptminDist:\n",
    "                ptminDist = dist(point, opoint)\n",
    "        if ptminDist > maxDist:\n",
    "            maxVal = point\n",
    "            maxDist = ptminDist\n",
    "    done.append(maxVal)\n",
    "    notdone.remove(maxVal)\n",
    "    print lookup[maxVal], maxVal"
   ]
  },
  {
   "cell_type": "markdown",
   "metadata": {},
   "source": [
    "## Basic Q1"
   ]
  },
  {
   "cell_type": "code",
   "execution_count": 7,
   "metadata": {},
   "outputs": [
    {
     "name": "stdout",
     "output_type": "stream",
     "text": [
      "{0: [(25, 125)], 1: [(44, 105)], 2: [(29, 97)], 3: [(35, 63)], 4: [(55, 63)], 5: [(42, 57)], 6: [(23, 40)], 7: [(64, 37)], 8: [(33, 22)], 9: [(55, 20)]} {(25, 125): 0, (33, 22): 8, (55, 63): 4, (29, 97): 2, (23, 40): 6, (42, 57): 5, (55, 20): 9, (35, 63): 3, (64, 37): 7, (44, 105): 1}\n"
     ]
    }
   ],
   "source": [
    "green= [(25,125), (44,105), (29,97), (35,63), (55,63), (42,57), (23,40), (64,37), (33,22), (55,20)]\n",
    "\n",
    "clusters = dict(zip(range(len(green)), [[t] for t in green]))\n",
    "oclusters = dict(zip(green, range(len(green))))\n",
    "print clusters, oclusters\n",
    "gold= [(28,145), (65, 140), (50,130), (38, 115), (55,118), (50,90), (63,88), (43,83), (50,60), (50,30)]"
   ]
  },
  {
   "cell_type": "code",
   "execution_count": 8,
   "metadata": {
    "collapsed": true
   },
   "outputs": [],
   "source": [
    "assert len(green) + len(gold) ==20"
   ]
  },
  {
   "cell_type": "code",
   "execution_count": 9,
   "metadata": {},
   "outputs": [
    {
     "name": "stdout",
     "output_type": "stream",
     "text": [
      "{0: [(25, 125), (28, 145), (50, 130)], 1: [(44, 105), (65, 140), (38, 115), (55, 118), (50, 90), (63, 88)], 2: [(29, 97), (43, 83)], 3: [(35, 63)], 4: [(55, 63), (50, 60)], 5: [(42, 57)], 6: [(23, 40)], 7: [(64, 37)], 8: [(33, 22)], 9: [(55, 20), (50, 30)]}\n",
      "0\n",
      "34.3333333333 133.333333333\n",
      "1\n",
      "52.5 109.333333333\n",
      "2\n",
      "36.0 90.0\n",
      "3\n",
      "35.0 63.0\n",
      "4\n",
      "52.5 61.5\n",
      "5\n",
      "42.0 57.0\n",
      "6\n",
      "23.0 40.0\n",
      "7\n",
      "64.0 37.0\n",
      "8\n",
      "33.0 22.0\n",
      "9\n",
      "52.5 25.0\n"
     ]
    }
   ],
   "source": [
    "for point in gold:\n",
    "    minVal = None\n",
    "    minDist = float(\"inf\")\n",
    "    for opoint in green:\n",
    "        if dist(point,opoint) < minDist:\n",
    "            minVal = opoint\n",
    "            minDist = dist(point, opoint)\n",
    "    clusters[oclusters[minVal]].append(point)\n",
    "    \n",
    "print clusters\n",
    "    \n",
    "for key, value in clusters.iteritems():\n",
    "    print key\n",
    "    cX = sum([thing[0] for thing in value])*1./len(value)\n",
    "    cY = sum([thing[1] for thing in value])*1./len(value)\n",
    "    print cX, cY"
   ]
  },
  {
   "cell_type": "markdown",
   "metadata": {},
   "source": [
    "## Basic Q2"
   ]
  },
  {
   "cell_type": "code",
   "execution_count": 10,
   "metadata": {},
   "outputs": [
    {
     "name": "stdout",
     "output_type": "stream",
     "text": [
      "((6, 15), (13, 7), (16, 16), (18, 5))\n",
      "yellow, dist to y, dist to b\n",
      "26 296\n",
      "73 53\n",
      "blue, dist to b, dist to y\n",
      "137 157\n",
      "4 194\n",
      "((7, 8), (12, 5), (13, 10), (16, 4))\n",
      "yellow, dist to y, dist to b\n",
      "8 178\n",
      "74 64\n",
      "blue, dist to b, dist to y\n",
      "74 64\n",
      "17 157\n",
      "((6, 7), (11, 4), (14, 10), (23, 6))\n",
      "yellow, dist to y, dist to b\n",
      "10 200\n",
      "72 82\n",
      "blue, dist to b, dist to y\n",
      "61 81\n",
      "10 340\n",
      "((3, 15), (13, 7), (14, 10), (23, 6))\n",
      "yellow, dist to y, dist to b\n",
      "29 389\n",
      "73 53\n",
      "blue, dist to b, dist to y\n",
      "61 81\n",
      "10 340\n"
     ]
    }
   ],
   "source": [
    "y = (5,10)\n",
    "b = (20,5)\n",
    "\n",
    "rect = [[(6,15),(13,7),(16,16),(18,5)], [(7,8),(12,5),(13,10),(16,4)]\n",
    "        ,[(6,7),(11,4),(14,10),(23,6)],[(3,15),(13,7),(14,10),(23,6)]]\n",
    "\n",
    "for (yul, ylr, bul, blr) in rect:\n",
    "    print (yul, ylr, bul, blr)\n",
    "    print \"yellow, dist to y, dist to b\"\n",
    "    print dist(yul, y), dist(yul, b)\n",
    "    print dist(ylr, y), dist(ylr, b)\n",
    "    print \"blue, dist to b, dist to y\"\n",
    "    print dist(bul, b), dist(bul, y)\n",
    "    print dist(blr, b), dist(blr, y)"
   ]
  },
  {
   "cell_type": "markdown",
   "metadata": {},
   "source": [
    "## Basic Q4"
   ]
  },
  {
   "cell_type": "code",
   "execution_count": 11,
   "metadata": {
    "collapsed": true
   },
   "outputs": [],
   "source": [
    "sets = [\"AB\", \"BC\", \"CD\", \"DE\", \"EF\", \"FG\", \"GH\", \"AH\", \"ADG\", \"ADF\"]\n",
    "optimum = 4 # (ab,cd,ef,gh)"
   ]
  },
  {
   "cell_type": "code",
   "execution_count": 12,
   "metadata": {},
   "outputs": [
    {
     "name": "stdout",
     "output_type": "stream",
     "text": [
      "simple ratio is 1.75\n"
     ]
    }
   ],
   "source": [
    "# simple\n",
    "# When it is considered, select a set if it has at least one element that is not already covered. Stop when all elements are covered.\n",
    "\n",
    "covered = set()\n",
    "cnt = 0\n",
    "for oset in sets: \n",
    "    if oset[0] in covered and oset[1] in covered:\n",
    "        continue\n",
    "    else:\n",
    "        for thing in oset:\n",
    "            covered.add(thing)\n",
    "        cnt += 1 \n",
    "            \n",
    "print \"simple ratio is {}\".format(cnt*1./optimum)"
   ]
  },
  {
   "cell_type": "code",
   "execution_count": 13,
   "metadata": {},
   "outputs": [
    {
     "name": "stdout",
     "output_type": "stream",
     "text": [
      "dumb ratio is 1.75\n"
     ]
    }
   ],
   "source": [
    "# dumb\n",
    "# select in order in the list\n",
    "\n",
    "covered = set()\n",
    "cnt = 0\n",
    "for oset in sets:\n",
    "    cnt += 1\n",
    "    for thing in oset:\n",
    "        covered.add(thing)\n",
    "    if len(covered) == 8:\n",
    "        break\n",
    "        \n",
    "print \"dumb ratio is {}\".format(cnt*1./optimum)"
   ]
  },
  {
   "cell_type": "code",
   "execution_count": 14,
   "metadata": {},
   "outputs": [
    {
     "name": "stdout",
     "output_type": "stream",
     "text": [
      "most-help ratio is 1.5\n",
      "6\n"
     ]
    }
   ],
   "source": [
    "# most-help\n",
    "# Consider sets in order of the number of elements they contain that are not already covered. \n",
    "# If there are ties, break the tie in favor of the one that appears first on the list. Stop when all elements are covered\n",
    "\n",
    "sets = [\"AB\", \"BC\", \"CD\", \"DE\", \"EF\", \"FG\", \"GH\", \"AH\", \"ADG\", \"ADF\"]\n",
    "\n",
    "index = dict(zip(sets, range(len(sets))))\n",
    "covered = set()\n",
    "cnt = 0\n",
    "while len(covered)< 8:\n",
    "    minSet = None\n",
    "    idx = 100\n",
    "    notCovered = 0\n",
    "    for oset in sets:\n",
    "        \n",
    "        intCnt = len(oset) - len(covered.intersection([thing for thing in oset]))\n",
    "        \n",
    "        if intCnt > notCovered or (intCnt == notCovered and index[oset] < idx):\n",
    "            idx = index[oset]\n",
    "            minSet = oset      \n",
    "    for thing in minSet:\n",
    "        covered.add(thing)\n",
    "    cnt+=1\n",
    "    sets.remove(minSet)\n",
    "\n",
    "print \"most-help ratio is {}\".format(cnt*1./optimum)\n",
    "print cnt"
   ]
  }
 ],
 "metadata": {
  "kernelspec": {
   "display_name": "Python 2",
   "language": "python",
   "name": "python2"
  },
  "language_info": {
   "codemirror_mode": {
    "name": "ipython",
    "version": 2
   },
   "file_extension": ".py",
   "mimetype": "text/x-python",
   "name": "python",
   "nbconvert_exporter": "python",
   "pygments_lexer": "ipython2",
   "version": "2.7.14"
  }
 },
 "nbformat": 4,
 "nbformat_minor": 2
}
