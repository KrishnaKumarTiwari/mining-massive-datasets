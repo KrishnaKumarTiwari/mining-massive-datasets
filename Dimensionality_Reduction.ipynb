{
 "cells": [
  {
   "cell_type": "markdown",
   "metadata": {},
   "source": [
    "# Dimensionality Reduction\n",
    "## Question 1\n",
    "Here is a table of 1-5 star ratings for five movies (M, N, P. Q. R) by three raters (A, B, C).\n",
    "\n",
    "    | |M |N |P |Q |R |\n",
    "    |A |1 |2 |3 |4 |5 |\n",
    "    |B |2 |3 |2 |5 |3 |\n",
    "    |C |5 |5 |5 |3 |2 |\n",
    "\n",
    "Normalize the ratings by subtracting the average for each row and then subtracting the average for each column in the resulting table."
   ]
  },
  {
   "cell_type": "code",
   "execution_count": 1,
   "metadata": {
    "collapsed": true
   },
   "outputs": [],
   "source": [
    "import numpy as np"
   ]
  },
  {
   "cell_type": "code",
   "execution_count": 2,
   "metadata": {
    "collapsed": true
   },
   "outputs": [],
   "source": [
    "# Matrix containing raw movie ratings by users A, B and C\n",
    "rawRating = np.array([[1,2,3,4,5],\n",
    "                      [2,3,2,5,3],\n",
    "                      [5,5,5,3,2]])\n",
    "\n",
    "# Matrix containing average movie ratings by users A, B and C\n",
    "userAvg = np.array([[3,3,3,3,3],\n",
    "                    [3,3,3,3,3],\n",
    "                    [4,4,4,4,4]])"
   ]
  },
  {
   "cell_type": "code",
   "execution_count": 3,
   "metadata": {},
   "outputs": [
    {
     "name": "stdout",
     "output_type": "stream",
     "text": [
      "Normalized user ratings: \n",
      "[[-2 -1  0  1  2]\n",
      " [-1  0 -1  2  0]\n",
      " [ 1  1  1 -1 -2]]\n"
     ]
    }
   ],
   "source": [
    "# the normalized movie ratings for users A, B and C\n",
    "normalRating = rawRating - userAvg\n",
    "print \"Normalized user ratings: \"\n",
    "print normalRating"
   ]
  },
  {
   "cell_type": "code",
   "execution_count": 4,
   "metadata": {},
   "outputs": [
    {
     "name": "stdout",
     "output_type": "stream",
     "text": [
      "Normalized movie scores: \n",
      "[[-1.33333333 -1.          0.          0.33333333  2.        ]\n",
      " [-0.33333333  0.         -1.          1.33333333  0.        ]\n",
      " [ 1.66666667  1.          1.         -1.66666667 -2.        ]]\n"
     ]
    }
   ],
   "source": [
    "movieAvg = np.array([[-2.0/3, 0, 0, 2.0/3, 0],\n",
    "                     [-2.0/3, 0, 0, 2.0/3, 0],\n",
    "                     [-2.0/3, 0, 0, 2.0/3, 0]])\n",
    "\n",
    "normalizedScore = normalRating - movieAvg\n",
    "print \"Normalized movie scores: \"\n",
    "print normalizedScore"
   ]
  },
  {
   "cell_type": "markdown",
   "metadata": {},
   "source": [
    "## Question 2\n",
    "This is a table giving the profile of three items:\n",
    "\n",
    "    |A |1 |0 |1 |0 |1 |2 |\n",
    "    |B |1 |1 |0 |0 |1 |6 |\n",
    "    |C |0 |1 |0 |1 |0 |2 |\n",
    "\n",
    "The first five attributes are Boolean, and the last is an integer \"rating.\" Assume that the scale factor for the rating is α. Compute, as a function of α, the cosine distances between each pair of profiles. For each of α = 0, 0.5, 1, and 2, determine the cosine of the angle between each pair of vectors."
   ]
  },
  {
   "cell_type": "code",
   "execution_count": 5,
   "metadata": {
    "collapsed": true
   },
   "outputs": [],
   "source": [
    "import numpy as np\n",
    "import math"
   ]
  },
  {
   "cell_type": "code",
   "execution_count": 6,
   "metadata": {
    "collapsed": true
   },
   "outputs": [],
   "source": [
    "def vectorLength(v):\n",
    "    return math.sqrt(sum([vi**2 for vi in v]))\n",
    "\n",
    "def vectorProducts(v1,v2):\n",
    "    return np.dot(v1,v2)/(vectorLength(v1)*vectorLength(v2))\n",
    "\n",
    "def cosineAngle(v, alpha):\n",
    "    va = [vi for vi in v]\n",
    "    va[-1] *= alpha\n",
    "    return va"
   ]
  },
  {
   "cell_type": "code",
   "execution_count": 7,
   "metadata": {},
   "outputs": [
    {
     "name": "stdout",
     "output_type": "stream",
     "text": [
      "Alpha: 0\n",
      "cos(A,B): 0.6666666666666667\n",
      "cos(A,C): 0.0\n",
      "cos(B,C): 0.40824829046386296\n",
      "\n",
      "Alpha: 0.5\n",
      "cos(A,B): 0.7216878364870323\n",
      "cos(A,C): 0.2886751345948129\n",
      "cos(B,C): 0.6666666666666667\n",
      "\n",
      "Alpha: 1\n",
      "cos(A,B): 0.8473185457363233\n",
      "cos(A,C): 0.6172133998483676\n",
      "cos(B,C): 0.8498365855987975\n",
      "\n",
      "Alpha: 2\n",
      "cos(A,B): 0.9460945407607455\n",
      "cos(A,C): 0.8651809126974003\n",
      "cos(B,C): 0.9525793444156805\n",
      "\n"
     ]
    }
   ],
   "source": [
    "A = [1,0,1,0,1,2]\n",
    "B = [1,1,0,0,1,6]\n",
    "C = [0,1,0,1,0,2]\n",
    "\n",
    "alphaVec = [0,0.5,1,2]\n",
    "\n",
    "for alpha in alphaVec:\n",
    "    \n",
    "    AA = cosineAngle(A, alpha)\n",
    "    AB = cosineAngle(B, alpha)\n",
    "    AC = cosineAngle(C, alpha)\n",
    "    \n",
    "    cosAB = vectorProducts(AA,AB)\n",
    "    cosAC = vectorProducts(AA,AC)\n",
    "    cosBC = vectorProducts(AB,AC)\n",
    "    \n",
    "    print \"Alpha: %s\" % alpha\n",
    "    print \"cos(A,B): %s\" % (cosAB)\n",
    "    print \"cos(A,C): %s\" % (cosAC)\n",
    "    print \"cos(B,C): %s\" % (cosBC)\n",
    "    print \"\\n\","
   ]
  },
  {
   "cell_type": "markdown",
   "metadata": {},
   "source": [
    "## Question 3\n",
    "In this question, all columns will be written in their transposed form, as rows, to make the typography simpler. Matrix M has three rows and two columns, and the columns form an orthonormal basis. One of the columns is [2/7,3/7,6/7]. There are many options for the second column [x,y,z]. Write down those constraints on x, y, and z. Then, identi fy in the list below the one column that could be [x,y,z]. All components are computed to three decimal places, so the constraints may be satisfied only to a close approximation."
   ]
  },
  {
   "cell_type": "code",
   "execution_count": 8,
   "metadata": {
    "collapsed": true
   },
   "outputs": [],
   "source": [
    "import numpy as np\n",
    "from numpy import dot\n",
    "from numpy.linalg import norm\n",
    "\n",
    "base = [2./7,3./7,6./7]\n",
    "\n",
    "Matrix = np.array([[0.702, -0.702, 0.117],\n",
    "                   [-0.548, 0.401, 0.273],\n",
    "                   [-0.288, -0.490, 0.772],\n",
    "                   [0.975, 0.700, -0.675]])"
   ]
  },
  {
   "cell_type": "code",
   "execution_count": 9,
   "metadata": {},
   "outputs": [
    {
     "name": "stdout",
     "output_type": "stream",
     "text": [
      "[ 0.702 -0.702  0.117] 0.0 0.9996484382021511\n",
      "[-0.548  0.401  0.273] 0.24928571428571428 0.7318702070722651\n",
      "[-0.288 -0.49   0.772] 0.36942857142857144 0.9586594807333833\n",
      "[ 0.975  0.7   -0.675] -1.1102230246251565e-16 1.3770439353920412\n"
     ]
    }
   ],
   "source": [
    "for M in Matrix:\n",
    "    print M, dot(base, M), norm(M)"
   ]
  },
  {
   "cell_type": "markdown",
   "metadata": {},
   "source": [
    "## Question 4\n",
    "Suppose we have three points in a two dimensional space: (1,1), (2,2), and (3,4). We want to perform PCA on these points, so we construct a 2-by-2 matrix whose eigenvectors are the directions that best represent these three points. Construct this matrix."
   ]
  },
  {
   "cell_type": "code",
   "execution_count": 10,
   "metadata": {},
   "outputs": [
    {
     "name": "stdout",
     "output_type": "stream",
     "text": [
      "M: \n",
      "[[1 1]\n",
      " [2 2]\n",
      " [3 4]]\n",
      "\n",
      "MT: \n",
      "[[1 2 3]\n",
      " [1 2 4]]\n",
      "\n",
      "MTM: \n",
      "[[14 17]\n",
      " [17 21]]\n"
     ]
    }
   ],
   "source": [
    "import numpy as np\n",
    "\n",
    "M = np.array([[1,1], [2,2], [3,4]])\n",
    "MT = np.transpose(M)\n",
    "\n",
    "MTM = np.dot(MT, M)\n",
    "\n",
    "print \"M: \"\n",
    "print M\n",
    "print\n",
    "\n",
    "print \"MT: \"\n",
    "print MT\n",
    "print\n",
    "\n",
    "print \"MTM: \"\n",
    "print MTM"
   ]
  },
  {
   "cell_type": "markdown",
   "metadata": {},
   "source": [
    "## Question 5\n",
    "Identify the vector that is orthogonal to the vector [1,2,3]."
   ]
  },
  {
   "cell_type": "code",
   "execution_count": 11,
   "metadata": {},
   "outputs": [
    {
     "name": "stdout",
     "output_type": "stream",
     "text": [
      "[ 1 -1  0 -3]\n"
     ]
    }
   ],
   "source": [
    "import numpy as np\n",
    "\n",
    "M = np.array([[0, 2, -1],\n",
    "              [-3, 4, -2],\n",
    "              [-1, -1, 1],\n",
    "              [-4, 2, -1]])\n",
    "\n",
    "Y = np.transpose(np.array([1, 2, 3]))\n",
    "A = np.dot(M, Y)\n",
    "\n",
    "print A"
   ]
  },
  {
   "cell_type": "markdown",
   "metadata": {},
   "source": [
    "## Question 6\n",
    "Consider the diagonal matrix M =\n",
    "\n",
    "    |1 |0 |0 |\n",
    "    |0 |2 |0 |\n",
    "    |0 |0 |0 |\n",
    "\n",
    "Compute its Moore-Penrose pseudoinverse,"
   ]
  },
  {
   "cell_type": "code",
   "execution_count": 12,
   "metadata": {},
   "outputs": [
    {
     "name": "stdout",
     "output_type": "stream",
     "text": [
      "[[1 0 0]\n",
      " [0 2 0]\n",
      " [0 0 0]]\n"
     ]
    }
   ],
   "source": [
    "import numpy as np\n",
    "M = np.array([[1,0,0],[0,2,0],[0,0,0]])\n",
    "print M"
   ]
  },
  {
   "cell_type": "code",
   "execution_count": 13,
   "metadata": {},
   "outputs": [
    {
     "name": "stdout",
     "output_type": "stream",
     "text": [
      "[[1.  0.  0. ]\n",
      " [0.  0.5 0. ]\n",
      " [0.  0.  0. ]]\n"
     ]
    }
   ],
   "source": [
    "MInv = np.linalg.pinv(M)\n",
    "print MInv"
   ]
  }
 ],
 "metadata": {
  "kernelspec": {
   "display_name": "Python 2",
   "language": "python",
   "name": "python2"
  },
  "language_info": {
   "codemirror_mode": {
    "name": "ipython",
    "version": 2
   },
   "file_extension": ".py",
   "mimetype": "text/x-python",
   "name": "python",
   "nbconvert_exporter": "python",
   "pygments_lexer": "ipython2",
   "version": "2.7.14"
  }
 },
 "nbformat": 4,
 "nbformat_minor": 2
}
