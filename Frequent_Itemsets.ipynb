{
 "cells": [
  {
   "cell_type": "markdown",
   "metadata": {},
   "source": [
    "# Frequent Itemsets\n",
    "## Question 1\n",
    "Suppose we have transactions that satisfy the following assumptions:\n",
    "\n",
    "* s, the support threshold, is 10,000.\n",
    "* There are one million items, which are represented by the integers 0,1,...,999999.\n",
    "* There are N frequent items, that is, items that occur 10,000 times or more.\n",
    "* There are one million pairs that occur 10,000 times or more.\n",
    "* There are 2M pairs that occur exactly once. M of these pairs consist of two frequent items, the other M each have at least one nonfrequent item.\n",
    "* No other pairs occur at all.\n",
    "* Integers are always represented by 4 bytes.\n",
    "\n",
    "Suppose we run the a-priori algorithm to find frequent pairs and can choose on the second pass between the triangular-matrix method for counting candidate pairs (a triangular array count[i][j] that holds an integer count for each pair of items (i, j) where i < j) and a hash table of item-item-count triples. Neglect in the first case the space needed to translate between original item numbers and numbers for the frequent items, and in the second case neglect the space needed for the hash table. Assume that item numbers and counts are always 4-byte integers.\n",
    "\n",
    "As a function of N and M, what is the minimum number of bytes of main memory needed to execute the a-priori algorithm on this data? Demonstrate that you have the correct formula by selecting, from the choices below, the triple consisting of values for N, M, and the (approximate, i.e., to within 10%) minumum number of bytes of main memory, S, needed for the a-priori algorithm to execute with this data."
   ]
  },
  {
   "cell_type": "code",
   "execution_count": 1,
   "metadata": {
    "collapsed": true
   },
   "outputs": [],
   "source": [
    "import os\n",
    "import sys\n",
    "\n",
    "# N = 100,000; M = 50,000,000; S = 5,000,000,000\n",
    "# N = 40,000; M = 60,000,000; S = 3,200,000,000\n",
    "# N = 50,000; M = 80,000,000; S = 1,500,000,000\n",
    "# N = 100,000; M = 100,000,000; S = 1,200,000,000\n",
    "soln = [[100000, 50000000, 5000000000],\n",
    "        [40000, 60000000, 3200000000],\n",
    "        [50000, 80000000, 1500000000],\n",
    "        [100000, 100000000, 1200000000]]"
   ]
  },
  {
   "cell_type": "code",
   "execution_count": 2,
   "metadata": {
    "collapsed": true
   },
   "outputs": [],
   "source": [
    "def a(N, M):\n",
    "    memory = min(12*(M + 10**6), 4*N+2*N*(N-1))\n",
    "    #memory = min(12*(M + 10**6), 4*N*N)\n",
    "    return memory"
   ]
  },
  {
   "cell_type": "code",
   "execution_count": 3,
   "metadata": {
    "collapsed": true
   },
   "outputs": [],
   "source": [
    "def pct(e, a):\n",
    "    return 100 * (abs(e - a) / float(a))"
   ]
  },
  {
   "cell_type": "code",
   "execution_count": 4,
   "metadata": {},
   "outputs": [
    {
     "name": "stdout",
     "output_type": "stream",
     "text": [
      "716.993464052\n",
      "337.158469945\n",
      "54.3209876543\n",
      "0.990099009901\n"
     ]
    }
   ],
   "source": [
    "for n, m, s in soln:\n",
    "    print pct(s, a(n, m))"
   ]
  },
  {
   "cell_type": "markdown",
   "metadata": {},
   "source": [
    "**Answer**: N = 100,000; M = 100,000,000; S = 1,200,000,000\n",
    "\n",
    "## Question 2\n",
    "Imagine there are 100 baskets, numbered 1,2,...,100, and 100 items, similarly numbered. Item i is in basket j if and only if i divides j evenly. For example, basket 24 is the set of items {1,2,3,4,6,8,12,24}. Describe all the association rules that have 100% confidence. Which of the following rules has 100% confidence?"
   ]
  },
  {
   "cell_type": "code",
   "execution_count": 5,
   "metadata": {
    "collapsed": true
   },
   "outputs": [],
   "source": [
    "baskets = range(1,101)\n",
    "items = range(1,101)\n",
    "\n",
    "# Create transactions\n",
    "transactions = []\n",
    "\n",
    "for i in baskets:\n",
    "    basket = []\n",
    "    for item in items:\n",
    "        if i % item == 0:\n",
    "            basket.append(item)\n",
    "    transactions.append(basket)"
   ]
  },
  {
   "cell_type": "code",
   "execution_count": 6,
   "metadata": {
    "collapsed": true
   },
   "outputs": [],
   "source": [
    "def check(transactions,query):\n",
    "    count=0\n",
    "    for t in transactions:\n",
    "        query_in = True\n",
    "        for q in query:\n",
    "            if q not in t:\n",
    "                query_in = False\n",
    "        if query_in:\n",
    "            count+=1\n",
    "    return count"
   ]
  },
  {
   "cell_type": "code",
   "execution_count": 7,
   "metadata": {
    "collapsed": true
   },
   "outputs": [],
   "source": [
    "def confidence(num,denom):\n",
    "    count_denom = check(transactions,denom)\n",
    "    count_num = check(transactions,num)\n",
    "    confidence = count_num /(1.0* count_denom ) * 100\n",
    "    return confidence"
   ]
  },
  {
   "cell_type": "code",
   "execution_count": 8,
   "metadata": {},
   "outputs": [
    {
     "name": "stdout",
     "output_type": "stream",
     "text": [
      "{1,2}-> 4,Condidence = 50\n",
      "{1}-> 2,Condidence = 50\n",
      "{1,4,7}-> 14,Condidence = 100\n",
      "{1,3,6}-> 12,Condidence = 50\n",
      "{4,6}-> 12,Condidence = 100\n",
      "{8,12}-> 96,Condidence = 25\n",
      "{4,6}-> 24,Condidence = 50\n",
      "{1,3,6}-> 12,Condidence = 50\n"
     ]
    }
   ],
   "source": [
    "print \"{1,2}-> 4,Condidence = %d\"%(confidence([1,2,4],[1,2]))   \n",
    "print \"{1}-> 2,Condidence = %d\"%(confidence([1,2],[1]))   \n",
    "print \"{1,4,7}-> 14,Condidence = %d\"%(confidence([1,4,7,14],[1,4,7]))   \n",
    "print \"{1,3,6}-> 12,Condidence = %d\"%(confidence([1,3,6,12],[1,3,6]))   \n",
    "print \"{4,6}-> 12,Condidence = %d\"%(confidence([4,6,12],[4,6]))   \n",
    "print \"{8,12}-> 96,Condidence = %d\"%(confidence([8,12,96],[8,12]))   \n",
    "print \"{4,6}-> 24,Condidence = %d\"%(confidence([4,6,24],[4,6]))   \n",
    "print \"{1,3,6}-> 12,Condidence = %d\"%(confidence([1,3,6,12],[1,3,6]))"
   ]
  },
  {
   "cell_type": "markdown",
   "metadata": {},
   "source": [
    "## Question 3\n",
    "Suppose we perform the PCY algorithm to find frequent pairs, with market-basket data meeting the following specifications:\n",
    "\n",
    "* s, the support threshold, is 10,000.\n",
    "* There are one million items, which are represented by the integers 0,1,...,999999.\n",
    "* There are 250,000 frequent items, that is, items that occur 10,000 times or more.\n",
    "* There are one million pairs that occur 10,000 times or more.\n",
    "* There are P pairs that occur exactly once and consist of 2 frequent items.\n",
    "* No other pairs occur at all.\n",
    "* Integers are always represented by 4 bytes.\n",
    "* When we hash pairs, they distribute among buckets randomly, but as evenly as possible; i.e., you may assume that each bucket gets exactly its fair share of the P pairs that occur once.\n",
    "\n",
    "Suppose there are S bytes of main memory. In order to run the PCY algorithm successfully, the number of buckets must be sufficiently large that most buckets are not large. In addition, on the second pass, there must be enough room to count all the candidate pairs. As a function of S, what is the largest value of P for which we can successfully run the PCY algorithm on this data? Demonstrate that you have the correct formula by indicating which of the following is a value for S and a value for P that is approximately (i.e., to within 10%) the largest possible value of P for that S."
   ]
  },
  {
   "cell_type": "code",
   "execution_count": 9,
   "metadata": {
    "collapsed": true
   },
   "outputs": [],
   "source": [
    "import os\n",
    "import sys\n",
    "\n",
    "# S = 1,000,000,000; P = 10,000,000,000\n",
    "# S = 300,000,000; P = 750,000,000\n",
    "# S = 1,000,000,000; P = 20,000,000,000 (correct)\n",
    "# S = 100,000,000; P = 120,000,000\n",
    "\n",
    "soln = [[1000000000, 10000000000],\n",
    "        [300000000, 750000000],\n",
    "        [1000000000, 20000000000],\n",
    "        [100000000, 120000000]]"
   ]
  },
  {
   "cell_type": "code",
   "execution_count": 10,
   "metadata": {
    "collapsed": true
   },
   "outputs": [],
   "source": [
    "def b(S, P):\n",
    "    memory = S*S/48000000 - P\n",
    "    return memory"
   ]
  },
  {
   "cell_type": "code",
   "execution_count": 11,
   "metadata": {
    "collapsed": true
   },
   "outputs": [],
   "source": [
    "def pct(e, a):\n",
    "    return 100 * (abs(e - a) / float(a))\n",
    "    return 100 * (a/(e*e/48000000))"
   ]
  },
  {
   "cell_type": "code",
   "execution_count": 12,
   "metadata": {},
   "outputs": [
    {
     "name": "stdout",
     "output_type": "stream",
     "text": [
      "Difference between P and S^2/48,000,000 = 10833333333\n",
      "Percentage of P to the largest possible P value for that S = 90\n",
      "\n",
      "Difference between P and S^2/48,000,000 = 1125000000\n",
      "Percentage of P to the largest possible P value for that S = 60\n",
      "\n",
      "Difference between P and S^2/48,000,000 = 833333333\n",
      "Percentage of P to the largest possible P value for that S = 95\n",
      "\n",
      "Difference between P and S^2/48,000,000 = 88333333\n",
      "Percentage of P to the largest possible P value for that S = 16\n",
      "\n"
     ]
    }
   ],
   "source": [
    "for s, p in soln:\n",
    "    print \"Difference between P and S^2/48,000,000 = %d\" % b(s, p)\n",
    "    print \"Percentage of P to the largest possible P value for that S = %d\" % pct(s,p)\n",
    "    print"
   ]
  },
  {
   "cell_type": "markdown",
   "metadata": {},
   "source": [
    "**Answer**: Largest P value that is < S^2/48000000, within 10% to the largest possible value of P for that S."
   ]
  }
 ],
 "metadata": {
  "kernelspec": {
   "display_name": "Python 2",
   "language": "python",
   "name": "python2"
  },
  "language_info": {
   "codemirror_mode": {
    "name": "ipython",
    "version": 2
   },
   "file_extension": ".py",
   "mimetype": "text/x-python",
   "name": "python",
   "nbconvert_exporter": "python",
   "pygments_lexer": "ipython2",
   "version": "2.7.14"
  }
 },
 "nbformat": 4,
 "nbformat_minor": 2
}
