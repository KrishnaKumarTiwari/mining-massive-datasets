{
 "cells": [
  {
   "cell_type": "markdown",
   "metadata": {},
   "source": [
    "# MapReduce and Machine Learning\n",
    "## Question 1\n",
    "Suppose our input data to a map-reduce operation consists of integer values (the keys are not important). The map function takes an integer i and produces the list of pairs (p,i) such that p is a prime divisor of i. For example, map(12) = [(2,12), (3,12)]. The reduce function is addition. That is, reduce(p, [i1, i2, ..., ik]) is (p, i1 + i2 +...+ ik). Compute the output, if the input is the set of integers 15, 21, 24, 30, 49."
   ]
  },
  {
   "cell_type": "code",
   "execution_count": 1,
   "metadata": {},
   "outputs": [
    {
     "name": "stdout",
     "output_type": "stream",
     "text": [
      "Integer: 15\n",
      "Prime divisor(s): [3, 5]\n",
      "Integer: 21\n",
      "Prime divisor(s): [3, 7]\n",
      "Integer: 24\n",
      "Prime divisor(s): [2, 3]\n",
      "Integer: 30\n",
      "Prime divisor(s): [2, 3, 5]\n",
      "Integer: 49\n",
      "Prime divisor(s): [7]\n"
     ]
    }
   ],
   "source": [
    "from collections import defaultdict\n",
    "import math\n",
    "\n",
    "# determine if an integer n is a prime number\n",
    "def isPrime(n):\n",
    "    if n == 2:\n",
    "        return True\n",
    "    if n%2 == 0 or n <= 1:\n",
    "        return False\n",
    "    sqr = int(math.sqrt(n)) + 1\n",
    "    for divisor in range(3, sqr, 2):\n",
    "        if n%divisor == 0:\n",
    "            return False\n",
    "    return True\n",
    "\n",
    "# Output the prime divisors of each integers\n",
    "reduce = defaultdict(list)\n",
    "def map(integer):\n",
    "    output = []\n",
    "    for i in range(2, integer):\n",
    "        if isPrime(i) and integer%i == 0:\n",
    "            output.append(i)\n",
    "    return output\n",
    "\n",
    "# Input list of integers\n",
    "integer = [15, 21, 24, 30, 49]\n",
    "\n",
    "# Print every integer and its prime divisor(s)\n",
    "# eg. The prime divisors of 15 are 3 & 5\n",
    "for n in integer:\n",
    "    print \"Integer:\", n\n",
    "    primeDivisor = map(n)\n",
    "    print \"Prime divisor(s):\", primeDivisor\n",
    "    for key in primeDivisor:\n",
    "        reduce[key].append(n)"
   ]
  },
  {
   "cell_type": "code",
   "execution_count": 2,
   "metadata": {},
   "outputs": [
    {
     "name": "stdout",
     "output_type": "stream",
     "text": [
      "prime divisor and the sum of integers: 2 , 54\n",
      "prime divisor and the sum of integers: 3 , 90\n",
      "prime divisor and the sum of integers: 5 , 45\n",
      "prime divisor and the sum of integers: 7 , 70\n"
     ]
    }
   ],
   "source": [
    "for key, values in reduce.items():\n",
    "    print \"prime divisor and the sum of integers:\", key, \",\", sum(values)"
   ]
  },
  {
   "cell_type": "markdown",
   "metadata": {},
   "source": [
    "## Question 2\n",
    "Use the matrix-vector multiplication and apply the Map function to this matrix and vector:\n",
    "\n",
    "    | 1 | 2 | 3 | 4 | | 1 |\n",
    "    | 5 | 6 | 7 | 8 | | 2 |\n",
    "    | 9 | 10 | 11 | 12 | | 3 |\n",
    "    | 13 | 14 | 15 | 16 | | 4 |\n",
    "\n",
    "Then, identify the key-value pairs that are output of Map."
   ]
  },
  {
   "cell_type": "code",
   "execution_count": 3,
   "metadata": {
    "collapsed": true
   },
   "outputs": [],
   "source": [
    "import numpy as np\n",
    "import itertools"
   ]
  },
  {
   "cell_type": "code",
   "execution_count": 4,
   "metadata": {
    "collapsed": true
   },
   "outputs": [],
   "source": [
    "M = np.array([[1, 2, 3, 4],\n",
    "              [5, 6, 7, 8],\n",
    "              [9, 10, 11, 12],\n",
    "              [13, 14, 15, 16],])\n",
    "\n",
    "v = np.array([1, 2, 3, 4])"
   ]
  },
  {
   "cell_type": "code",
   "execution_count": 5,
   "metadata": {
    "collapsed": true
   },
   "outputs": [],
   "source": [
    "def mr(M, v):\n",
    "    t = []\n",
    "    mr, mc = M.shape\n",
    "    for i in range(mc):\n",
    "        for j in range(mr):\n",
    "            t.append((i, M[i, j] * v[j]))\n",
    "\n",
    "    t = sorted(t, key=lambda x:x[0])\n",
    "    for x in t:\n",
    "        print (x[0]+1, x[1])\n",
    "\n",
    "    r = np.zeros((mr, 1))\n",
    "    for key, vals in itertools.groupby(t, key=lambda x:x[0]):\n",
    "        vals = [x[1] for x in vals]\n",
    "        r[key] = sum(vals)\n",
    "        print '%s, %s' % (key, sum(vals))\n",
    "    return r.transpose()"
   ]
  },
  {
   "cell_type": "code",
   "execution_count": 6,
   "metadata": {},
   "outputs": [
    {
     "name": "stdout",
     "output_type": "stream",
     "text": [
      "(1, 1)\n",
      "(1, 4)\n",
      "(1, 9)\n",
      "(1, 16)\n",
      "(2, 5)\n",
      "(2, 12)\n",
      "(2, 21)\n",
      "(2, 32)\n",
      "(3, 9)\n",
      "(3, 20)\n",
      "(3, 33)\n",
      "(3, 48)\n",
      "(4, 13)\n",
      "(4, 28)\n",
      "(4, 45)\n",
      "(4, 64)\n",
      "0, 30\n",
      "1, 70\n",
      "2, 110\n",
      "3, 150\n",
      "[[ 30.  70. 110. 150.]]\n"
     ]
    }
   ],
   "source": [
    "# print np.dot(M, v.transpose())\n",
    "print mr(M, v)"
   ]
  },
  {
   "cell_type": "markdown",
   "metadata": {},
   "source": [
    "## Question 3\n",
    "Suppose we have the following relations:\n",
    "\n",
    "![relations](relations.jpeg)\n",
    "\n",
    "and we take their natural join. Apply the Map function to the tuples of these relations. Then, construct the elements that are input to the Reduce function. Identify these elements."
   ]
  },
  {
   "cell_type": "code",
   "execution_count": 7,
   "metadata": {
    "collapsed": true
   },
   "outputs": [],
   "source": [
    "import numpy as np\n",
    "import itertools"
   ]
  },
  {
   "cell_type": "code",
   "execution_count": 8,
   "metadata": {
    "collapsed": true
   },
   "outputs": [],
   "source": [
    "R = [(0, 1),\n",
    "     (1, 2),\n",
    "     (2, 3)]\n",
    "\n",
    "S = [(0, 1),\n",
    "     (1, 2),\n",
    "     (2, 3)]"
   ]
  },
  {
   "cell_type": "code",
   "execution_count": 9,
   "metadata": {
    "collapsed": true
   },
   "outputs": [],
   "source": [
    "def hash_join(R, S):\n",
    "    h = {}\n",
    "    for a, b in R:\n",
    "        h.setdefault(b, []).append(a)\n",
    "\n",
    "    j = []\n",
    "    for b, c in S:\n",
    "        if not h.has_key(b):\n",
    "            continue\n",
    "        for r in h[b]:\n",
    "            j.append( (r, b, c) )\n",
    "\n",
    "    return j"
   ]
  },
  {
   "cell_type": "code",
   "execution_count": 10,
   "metadata": {
    "collapsed": true
   },
   "outputs": [],
   "source": [
    "def mr(R, S):\n",
    "    m = []\n",
    "    for a, b in R:\n",
    "        m.append( (b, ('R', a)) )\n",
    "    for b, c in S:\n",
    "        m.append( (b, ('S', c)) )\n",
    "\n",
    "    m = sorted(m, key=lambda x:x[0])\n",
    "\n",
    "    r = []\n",
    "    for key, vals in itertools.groupby(m, key=lambda x:x[0]):\n",
    "        vals = [x[1] for x in vals]\n",
    "        print key, vals\n",
    "        rs = [x for x in vals if x[0] == 'R']\n",
    "        ss = [x for x in vals if x[0] == 'S']\n",
    "        for ri in rs:\n",
    "            for si in ss:\n",
    "                r.append( (ri[1], key, si[1]) )\n",
    "    return r"
   ]
  },
  {
   "cell_type": "code",
   "execution_count": 11,
   "metadata": {},
   "outputs": [
    {
     "name": "stdout",
     "output_type": "stream",
     "text": [
      "[(0, 1, 2), (1, 2, 3)]\n",
      "0 [('S', 1)]\n",
      "1 [('R', 0), ('S', 2)]\n",
      "2 [('R', 1), ('S', 3)]\n",
      "3 [('R', 2)]\n",
      "[(0, 1, 2), (1, 2, 3)]\n"
     ]
    }
   ],
   "source": [
    "print hash_join(R, S)\n",
    "print mr(R, S)"
   ]
  },
  {
   "cell_type": "markdown",
   "metadata": {},
   "source": [
    "## Question 4\n",
    "The figure below shows two positive points (purple squares) and two negative points (green circles):\n",
    "\n",
    "![svm1](svm1.jpeg)\n",
    "\n",
    "That is, the training data set consists of:\n",
    "\n",
    "* (x1,y1) = ((5,4),+1)\n",
    "* (x2,y2) = ((8,3),+1)\n",
    "* (x3,y3) = ((7,2),-1)\n",
    "* (x4,y4) = ((3,3),-1)\n",
    "\n",
    "Our goal is to find the maximum-margin linear classifier for this data. In easy cases, the shortest line between a positive and negative point has a perpendicular bisector that separates the points. If so, the perpendicular bisector is surely the maximum-margin separator. Alas, in this case, the closest pair of positive and negative points, x2 and x3, have a perpendicular bisector that misclassifies x1 as negative, so that won't work.\n",
    "\n",
    "The next-best possibility is that we can find a pair of points on one side (i.e., either two positive or two negative points) such that a line parallel to the line through these points is the maximum-margin separator. In these cases, the limit to how far from the two points the parallel line can get is determined by the closest (to the line between the two points) of the points on the other side. For our simple data set, this situation holds.\n",
    "\n",
    "Consider all possibilities for boundaries of this type, and express the boundary as w.x+b=0, such that w.x+b≥1 for positive points x and w.x+b≤-1 for negative points x. Assuming that w = (w1,w2), identify the value of w1, w2, and b."
   ]
  },
  {
   "cell_type": "code",
   "execution_count": 12,
   "metadata": {
    "collapsed": true
   },
   "outputs": [],
   "source": [
    "import math\n",
    "import numpy as np"
   ]
  },
  {
   "cell_type": "code",
   "execution_count": 13,
   "metadata": {
    "collapsed": true
   },
   "outputs": [],
   "source": [
    "P = [((5, 4), 1),\n",
    "     ((8, 3), 1),\n",
    "     ((3, 3), -1),\n",
    "     ((7, 2), -1)]"
   ]
  },
  {
   "cell_type": "code",
   "execution_count": 14,
   "metadata": {
    "collapsed": true
   },
   "outputs": [],
   "source": [
    "def line(pl0, pl1, p):\n",
    "    dx, dy = pl1[0] - pl0[0], pl1[1] - pl0[1]\n",
    "    a = abs((pl1[1] - pl0[1]) * p[0] - (pl1[0] - pl0[0]) * p[1] + pl1[0]*pl0[1] - pl0[0]*pl1[1])\n",
    "    return a / math.sqrt(dx*dx + dy*dy)"
   ]
  },
  {
   "cell_type": "code",
   "execution_count": 15,
   "metadata": {
    "collapsed": true
   },
   "outputs": [],
   "source": [
    "def closest(L, pts):\n",
    "    dist = [line(L[0][0], L[1][0], x[0]) for x in pts]\n",
    "    ix = np.argmin(dist)\n",
    "    return pts[ix], dist[ix]"
   ]
  },
  {
   "cell_type": "code",
   "execution_count": 16,
   "metadata": {
    "collapsed": true
   },
   "outputs": [],
   "source": [
    "def solve(A, B):\n",
    "    # find the point in B closest to the line through both points in A\n",
    "    p, d = closest(A, B)\n",
    "\n",
    "    M = np.hstack((\n",
    "        np.array([list(x[0]) for x in A] + [list(p[0])]),\n",
    "        np.ones((3, 1))))\n",
    "    b = np.array([x[1] for x in A] + [p[1]])\n",
    "    x = np.linalg.solve(M, b)\n",
    "    return x, d"
   ]
  },
  {
   "cell_type": "code",
   "execution_count": 17,
   "metadata": {
    "collapsed": true
   },
   "outputs": [],
   "source": [
    "S = [solve([a for a in P if a[1] == 1], [a for a in P if a [1] == -1]),\n",
    "     solve([a for a in P if a[1] == -1], [a for a in P if a [1] == 1])]"
   ]
  },
  {
   "cell_type": "code",
   "execution_count": 18,
   "metadata": {},
   "outputs": [
    {
     "name": "stdout",
     "output_type": "stream",
     "text": [
      "w1 = 0.50\n",
      "w2 = 1.50\n",
      "b = -7.50\n"
     ]
    }
   ],
   "source": [
    "ix = np.argmax([x[1] for x in S])\n",
    "x = S[ix][0]\n",
    "print 'w1 = %0.2f' % x[0]\n",
    "print 'w2 = %0.2f' % x[1]\n",
    "print 'b = %0.2f' % x[2]"
   ]
  },
  {
   "cell_type": "markdown",
   "metadata": {},
   "source": [
    "## Question 5\n",
    "Consider the following training set of 16 points. The eight purple squares are positive examples, and the eight green circles are negative examples.\n",
    "\n",
    "![newsvm4](newsvm4.jpeg)\n",
    "\n",
    "We propose to use the diagonal line with slope +1 and intercept +2 as a decision boundary, with positive examples above and negative examples below. However, like any linear boundary for this training set, some examples are misclassified. We can measure the goodness of the boundary by computing all the slack variables that exceed 0, and then using them in one of several objective functions. In this problem, we shall only concern ourselves with computing the slack variables, not an objective function.\n",
    "\n",
    "To be specific, suppose the boundary is written in the form w.x+b=0, where w = (-1,1) and b = -2. Note that we can scale the three numbers involved as we wish, and so doing changes the margin around the boundary. However, we want to consider this specific boundary and margin. Determine the slack for each of the 16 points."
   ]
  },
  {
   "cell_type": "code",
   "execution_count": 19,
   "metadata": {
    "collapsed": true
   },
   "outputs": [],
   "source": [
    "import numpy as np"
   ]
  },
  {
   "cell_type": "code",
   "execution_count": 20,
   "metadata": {
    "collapsed": true
   },
   "outputs": [],
   "source": [
    "pos = [(5, 10),\n",
    "       (7, 10),\n",
    "       (1, 8),\n",
    "       (3, 8),\n",
    "       (7, 8),\n",
    "       (1, 6),\n",
    "       (3, 6),\n",
    "       (3, 4)]\n",
    "\n",
    "neg = [(5, 8),\n",
    "       (5, 6),\n",
    "       (7, 6),\n",
    "       (1, 4),\n",
    "       (5, 4),\n",
    "       (7, 4),\n",
    "       (1, 2),\n",
    "       (3, 2)]"
   ]
  },
  {
   "cell_type": "code",
   "execution_count": 21,
   "metadata": {
    "collapsed": true
   },
   "outputs": [],
   "source": [
    "C = [(x, 1) for x in pos] + [(x, -1) for x in neg]\n",
    "\n",
    "w, b = np.array([-1, 1]), -2"
   ]
  },
  {
   "cell_type": "code",
   "execution_count": 22,
   "metadata": {},
   "outputs": [
    {
     "name": "stdout",
     "output_type": "stream",
     "text": [
      "Points\tSlack\n",
      "(5, 10)\t-2.00\n",
      "(7, 10)\t0.00\n",
      "(1, 8)\t-4.00\n",
      "(3, 8)\t-2.00\n",
      "(7, 8)\t2.00\n",
      "(1, 6)\t-2.00\n",
      "(3, 6)\t0.00\n",
      "(3, 4)\t2.00\n",
      "(5, 8)\t2.00\n",
      "(5, 6)\t0.00\n",
      "(7, 6)\t-2.00\n",
      "(1, 4)\t2.00\n",
      "(5, 4)\t-2.00\n",
      "(7, 4)\t-4.00\n",
      "(1, 2)\t0.00\n",
      "(3, 2)\t-2.00\n"
     ]
    }
   ],
   "source": [
    "d = np.dot(np.array([list(x[0]) for x in C]), w) + b\n",
    "\n",
    "print(\"Points\"+\"\\t\"+\"Slack\")\n",
    "for i, m in enumerate(np.sign(d) == np.array([x[1] for x in C])):\n",
    "    if C[i][1] == 1:\n",
    "        slack = 1 - d\n",
    "    else:\n",
    "        slack = 1 + d\n",
    "    #print \"%s %d %0.2f %0.2f\" % (C[i][0], C[i][1], d[i], slack[i])\n",
    "    print \"%s\\t%0.2f\" % (C[i][0], slack[i])"
   ]
  },
  {
   "cell_type": "markdown",
   "metadata": {},
   "source": [
    "## Question 6\n",
    "Below we see a set of 20 points and a decision tree for classifying the points.\n",
    "\n",
    "![gold](gold.jpeg)\n",
    "\n",
    "![dectree1](dectree1.jpeg)\n",
    "\n",
    "To be precise, the 20 points represent (Age,Salary) pairs of people who do or do not buy gold jewelry. Age (appreviated A in the decision tree) is the x-axis, and Salary (S in the tree) is the y-axis. Those that do are represented by gold points, and those that do not by green points. The 10 points of gold-jewelry buyers are:\n",
    "\n",
    "(28,145), (38,115), (43,83), (50,130), (50,90), (50,60), (50,30), (55,118), (63,88), and (65,140).\n",
    "\n",
    "The 10 points of those that do not buy gold jewelry are:\n",
    "\n",
    "(23,40), (25,125), (29,97), (33,22), (35,63), (42,57), (44, 105), (55,63), (55,20), and (64,37).\n",
    "\n",
    "Some of these points are correctly classified by the decision tree and some are not. Determine the classification of each point, and then indicate the points that are misclassified."
   ]
  },
  {
   "cell_type": "code",
   "execution_count": 23,
   "metadata": {
    "collapsed": true
   },
   "outputs": [],
   "source": [
    "A = 0\n",
    "S = 1\n",
    "\n",
    "pos = [(28,145),\n",
    "       (38,115),\n",
    "       (43,83),\n",
    "       (50,130),\n",
    "       (50,90),\n",
    "       (50,60),\n",
    "       (50,30),\n",
    "       (55,118),\n",
    "       (63,88),\n",
    "       (65,140)]\n",
    "\n",
    "neg = [(23,40),\n",
    "       (25,125),\n",
    "       (29,97),\n",
    "       (33,22),\n",
    "       (35,63),\n",
    "       (42,57),\n",
    "       (44, 105),\n",
    "       (55,63),\n",
    "       (55,20),\n",
    "       (64,37)]"
   ]
  },
  {
   "cell_type": "code",
   "execution_count": 24,
   "metadata": {
    "collapsed": true
   },
   "outputs": [],
   "source": [
    "def classify(p):\n",
    "    if p[A] < 45:\n",
    "        return p[S] >= 110\n",
    "    else:\n",
    "        return p[S] >= 75"
   ]
  },
  {
   "cell_type": "code",
   "execution_count": 25,
   "metadata": {},
   "outputs": [
    {
     "name": "stdout",
     "output_type": "stream",
     "text": [
      "[(43, 83), (50, 60), (50, 30), (25, 125)]\n"
     ]
    }
   ],
   "source": [
    "e = [p for p, v in zip(pos, [classify(x) for x in pos]) if not v] + \\\n",
    "    [p for p, v in zip(neg, [classify(x) for x in neg]) if v]\n",
    "print e"
   ]
  }
 ],
 "metadata": {
  "kernelspec": {
   "display_name": "Python 2",
   "language": "python",
   "name": "python2"
  },
  "language_info": {
   "codemirror_mode": {
    "name": "ipython",
    "version": 2
   },
   "file_extension": ".py",
   "mimetype": "text/x-python",
   "name": "python",
   "nbconvert_exporter": "python",
   "pygments_lexer": "ipython2",
   "version": "2.7.14"
  }
 },
 "nbformat": 4,
 "nbformat_minor": 2
}
