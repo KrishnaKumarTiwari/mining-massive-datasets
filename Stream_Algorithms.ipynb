{
 "cells": [
  {
   "cell_type": "markdown",
   "metadata": {},
   "source": [
    "# Stream Algorithms\n",
    "## Question 1\n",
    "For the following graph:\n",
    "\n",
    "       C -- D -- E\n",
    "     / |    |    | \\\n",
    "    A  |    |    |  B\n",
    "     \\ |    |    | /\n",
    "       F -- G -- H\n",
    "\n",
    "Write the adjacency matrix A, the degree matrix D, and the Laplacian matrix L. For each, find the sum of all entries and the number of nonzero entries."
   ]
  },
  {
   "cell_type": "code",
   "execution_count": 1,
   "metadata": {
    "collapsed": true
   },
   "outputs": [],
   "source": [
    "import numpy as np"
   ]
  },
  {
   "cell_type": "code",
   "execution_count": 2,
   "metadata": {},
   "outputs": [
    {
     "name": "stdout",
     "output_type": "stream",
     "text": [
      "[[0 0 1 0 0 1 0 0]\n",
      " [0 0 0 0 1 0 0 1]\n",
      " [1 0 0 1 0 1 0 0]\n",
      " [0 0 1 0 1 0 1 0]\n",
      " [0 1 0 1 0 0 0 1]\n",
      " [1 0 1 0 0 0 1 0]\n",
      " [0 0 0 1 0 1 0 1]\n",
      " [0 1 0 0 1 0 1 0]]\n"
     ]
    }
   ],
   "source": [
    "A = np.array([#A B C D E F G H\n",
    "             [0,0,1,0,0,1,0,0],\n",
    "             [0,0,0,0,1,0,0,1],\n",
    "             [1,0,0,1,0,1,0,0],\n",
    "             [0,0,1,0,1,0,1,0],\n",
    "             [0,1,0,1,0,0,0,1],\n",
    "             [1,0,1,0,0,0,1,0],\n",
    "             [0,0,0,1,0,1,0,1],\n",
    "             [0,1,0,0,1,0,1,0]])\n",
    "\n",
    "print A"
   ]
  },
  {
   "cell_type": "code",
   "execution_count": 3,
   "metadata": {},
   "outputs": [
    {
     "name": "stdout",
     "output_type": "stream",
     "text": [
      "[[2 0 0 0 0 0 0 0]\n",
      " [0 2 0 0 0 0 0 0]\n",
      " [0 0 3 0 0 0 0 0]\n",
      " [0 0 0 3 0 0 0 0]\n",
      " [0 0 0 0 3 0 0 0]\n",
      " [0 0 0 0 0 3 0 0]\n",
      " [0 0 0 0 0 0 3 0]\n",
      " [0 0 0 0 0 0 0 3]]\n"
     ]
    }
   ],
   "source": [
    "D = np.sum(A,0)\n",
    "D = np.diag(D)\n",
    "print D"
   ]
  },
  {
   "cell_type": "code",
   "execution_count": 4,
   "metadata": {},
   "outputs": [
    {
     "name": "stdout",
     "output_type": "stream",
     "text": [
      "[[ 2  0 -1  0  0 -1  0  0]\n",
      " [ 0  2  0  0 -1  0  0 -1]\n",
      " [-1  0  3 -1  0 -1  0  0]\n",
      " [ 0  0 -1  3 -1  0 -1  0]\n",
      " [ 0 -1  0 -1  3  0  0 -1]\n",
      " [-1  0 -1  0  0  3 -1  0]\n",
      " [ 0  0  0 -1  0 -1  3 -1]\n",
      " [ 0 -1  0  0 -1  0 -1  3]]\n"
     ]
    }
   ],
   "source": [
    "L = D - A\n",
    "print L"
   ]
  },
  {
   "cell_type": "code",
   "execution_count": 5,
   "metadata": {},
   "outputs": [
    {
     "name": "stdout",
     "output_type": "stream",
     "text": [
      "For Adjacency A, Entry sum: 22 \tNon-zero entries:  22\n",
      "For Degree D, Entry sum: 22 \tNon-zero entries:  8\n",
      "For Laplacian L, Entry sum: 0 \tNon-zero entries:  30\n"
     ]
    }
   ],
   "source": [
    "for matrix, tag in zip((A, D, L), (\"Adjacency A\", \"Degree D\", \"Laplacian L\")):\n",
    "    print \"For {}, Entry sum:\".format(tag), np.sum(matrix), \"\\t\", \"Non-zero entries: \", np.sum(np.where(matrix != 0, 1, 0))"
   ]
  },
  {
   "cell_type": "markdown",
   "metadata": {},
   "source": [
    "## Question 2\n",
    "We wish to estimate the surprise number (2nd moment) of a data stream, using the method of AMS. It happens that our stream consists of ten different values, which we'll call 1, 2,..., 10, that cycle repeatedly. That is, at timestamps 1 through 10, the element of the stream equals the timestamp, at timestamps 11 through 20, the element is the timestamp minus 10, and so on. It is now timestamp 75, and a 5 has just been read from the stream. As a start, you should calculate the surprise number for this time.\n",
    "\n",
    "For our estimate of the surprise number, we shall choose three timestamps at random, and estimate the surprise number from each, using the AMS approach (length of the stream times 2m-1, where m is the number of occurrences of the element of the stream at that timestamp, considering all times from that timestamp on, to the current time). Then, our estimate will be the median of the three resulting values.\n",
    "\n",
    "You should discover the simple rules that determine the estimate derived from any given timestamp and from any set of three timestamps. Then, identify the set of three \"random\" timestamps that give the closest estimate from {20, 49, 53}, {17, 43, 51}, {25, 34, 47}, {37, 46, 55}."
   ]
  },
  {
   "cell_type": "code",
   "execution_count": 6,
   "metadata": {
    "collapsed": true
   },
   "outputs": [],
   "source": [
    "import json\n",
    "import pprint\n",
    "\n",
    "def surprise(seq):\n",
    "    timestamp = {}\n",
    "    for n in seq:\n",
    "        timestamp[n] = timestamp.get(n, 0) + 1\n",
    "    pprint.pprint(timestamp)\n",
    "    return sum([v*v for k,v in timestamp.items()])"
   ]
  },
  {
   "cell_type": "code",
   "execution_count": 7,
   "metadata": {
    "collapsed": true
   },
   "outputs": [],
   "source": [
    "triples = [[20, 49, 53],\n",
    "           [17, 43, 51],\n",
    "           [25, 34, 47],\n",
    "           [37, 46, 55]]"
   ]
  },
  {
   "cell_type": "code",
   "execution_count": 8,
   "metadata": {
    "collapsed": true
   },
   "outputs": [],
   "source": [
    "def median(triple):\n",
    "    return sorted(triple)[len(triple)>>1]"
   ]
  },
  {
   "cell_type": "code",
   "execution_count": 9,
   "metadata": {
    "collapsed": true
   },
   "outputs": [],
   "source": [
    "def estimate(r, s):\n",
    "    v = [sum([v == s[x-1] and p>=(x-1) for p, v in enumerate(s)]) for x in r]\n",
    "    return [len(s) * (2*m - 1) for m in v]"
   ]
  },
  {
   "cell_type": "code",
   "execution_count": 10,
   "metadata": {
    "collapsed": true
   },
   "outputs": [],
   "source": [
    "def main():\n",
    "    s = [(i % 10) + 1 for i in range(0, 75)]\n",
    "    print surprise(s)\n",
    "    \n",
    "    for a in triples:\n",
    "        print '%s => %d' % (json.dumps(a), median(estimate(a, s)))\n",
    "    \n",
    "    return 0"
   ]
  },
  {
   "cell_type": "code",
   "execution_count": 11,
   "metadata": {},
   "outputs": [
    {
     "name": "stdout",
     "output_type": "stream",
     "text": [
      "{1: 8, 2: 8, 3: 8, 4: 8, 5: 8, 6: 7, 7: 7, 8: 7, 9: 7, 10: 7}\n",
      "565\n",
      "[20, 49, 53] => 375\n",
      "[17, 43, 51] => 525\n",
      "[25, 34, 47] => 675\n",
      "[37, 46, 55] => 375\n"
     ]
    }
   ],
   "source": [
    "if __name__ == '__main__':\n",
    "    main()"
   ]
  },
  {
   "cell_type": "markdown",
   "metadata": {},
   "source": [
    "## Question 3\n",
    "We wish to use the Flagolet-Martin lgorithm to count the number of distinct elements in a stream. Suppose that there ten possible elements, 1, 2,..., 10, that could appear in the stream, but only four of them have actually appeared. To make our estimate of the count of distinct elements, we hash each element to a 4-bit binary number. The element x is hashed to 3x + 7 (modulo 11). For example, element 8 hashes to 3x8+7 = 31, which is 9 modulo 11 (i.e., the remainder of 31/11 is 9). Thus, the 4-bit string for element 8 is 1001.\n",
    "\n",
    "A set of four of the elements 1 through 10 could give an estimate that is exact (if the estimate is 4), or too high, or too low. You should figure out under what circumstances a set of four elements falls into each of those categories. Then, identify the set of four elements that gives the exactly correct estimate from {3, 4, 8, 10}, {1, 2, 3, 9}, {4, 5, 6, 7}, { 3, 7, 8, 10}."
   ]
  },
  {
   "cell_type": "code",
   "execution_count": 12,
   "metadata": {
    "collapsed": true
   },
   "outputs": [],
   "source": [
    "import json\n",
    "\n",
    "streams = [[3, 4, 8, 10],\n",
    "           [1, 2, 3, 9],\n",
    "           [4, 5, 6, 7],\n",
    "           [3, 7, 8, 10]]"
   ]
  },
  {
   "cell_type": "code",
   "execution_count": 13,
   "metadata": {
    "collapsed": true
   },
   "outputs": [],
   "source": [
    "def mod(x):\n",
    "    return (3*x + 7) % 11"
   ]
  },
  {
   "cell_type": "code",
   "execution_count": 14,
   "metadata": {
    "collapsed": true
   },
   "outputs": [],
   "source": [
    "def bit(x):\n",
    "    m = [0xf, 0x7, 0x3, 0x1]\n",
    "    for i in range(0, 4):\n",
    "        if m[i] & x == 0:\n",
    "            return 4-i\n",
    "    return 0"
   ]
  },
  {
   "cell_type": "code",
   "execution_count": 15,
   "metadata": {
    "collapsed": true
   },
   "outputs": [],
   "source": [
    "def main():\n",
    "    for stream in streams:\n",
    "        r = max([bit(mod(x)) for x in stream])\n",
    "        print '%s = %d' % (json.dumps(stream), r*r)"
   ]
  },
  {
   "cell_type": "code",
   "execution_count": 16,
   "metadata": {},
   "outputs": [
    {
     "name": "stdout",
     "output_type": "stream",
     "text": [
      "[3, 4, 8, 10] = 9\n",
      "[1, 2, 3, 9] = 1\n",
      "[4, 5, 6, 7] = 16\n",
      "[3, 7, 8, 10] = 4\n"
     ]
    }
   ],
   "source": [
    "if __name__ == '__main__':\n",
    "    main()"
   ]
  },
  {
   "cell_type": "markdown",
   "metadata": {},
   "source": [
    "Correct answer: *{ 3, 7, 8, 10}* ie. estimate = 4.\n",
    "\n",
    "## Question 4\n",
    "A certain Web mail service has 10^8 users and wishes to create a sample of data about these users, occupying 10^10 bytes. Activity at the service can be viewed as a stream of elements, each of which is an email. The element contains the ID of the sender, which must be one of the 10^8 users of the service, and other information, e.g., the recipient(s), and contents of the message. The plan is to pick a subset of the users and collect in the 10^10 bytes records of length 100 bytes about every email sent by the users in the selected set (and nothing about other users).\n",
    "\n",
    "User ID's will be hashed to a bucket number, from 0 to 999,999. At all times, there will be a threshold t such that the 100-byte records for all the users whose ID's hash to t or less will be retained, and other users' records will not be retained. You may assume that each user generates emails at exactly the same rate as other users. As a function of n, the number of emails in the stream so far, what should the threshold t be in order that the selected records will not exceed the 10^10 bytes available to store records? Identify the value of n and its corresponding value of t."
   ]
  },
  {
   "cell_type": "code",
   "execution_count": 17,
   "metadata": {},
   "outputs": [
    {
     "name": "stdout",
     "output_type": "stream",
     "text": [
      "t-value when n=10^9:  99999\n",
      "t-value when n=10^10:  9999\n",
      "t-value when n=10^11:  999\n",
      "t-value when n=10^12:  99\n",
      "t-value when n=10^13:  9\n",
      "t-value when n=10^14:  0\n"
     ]
    }
   ],
   "source": [
    "def email(n):\n",
    "    t = (10**14)/n-1\n",
    "    return t\n",
    "\n",
    "print \"t-value when n=10^9: \", email(10**9)\n",
    "print \"t-value when n=10^10: \", email(10**10)\n",
    "print \"t-value when n=10^11: \", email(10**11)\n",
    "print \"t-value when n=10^12: \", email(10**12)\n",
    "print \"t-value when n=10^13: \", email(10**13)\n",
    "print \"t-value when n=10^14: \", email(10**14)"
   ]
  }
 ],
 "metadata": {
  "kernelspec": {
   "display_name": "Python 2",
   "language": "python",
   "name": "python2"
  },
  "language_info": {
   "codemirror_mode": {
    "name": "ipython",
    "version": 2
   },
   "file_extension": ".py",
   "mimetype": "text/x-python",
   "name": "python",
   "nbconvert_exporter": "python",
   "pygments_lexer": "ipython2",
   "version": "2.7.14"
  }
 },
 "nbformat": 4,
 "nbformat_minor": 2
}
